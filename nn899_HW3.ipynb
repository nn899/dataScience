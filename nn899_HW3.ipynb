{
 "cells": [
  {
   "cell_type": "markdown",
   "metadata": {},
   "source": [
    "# Introduction to Data Science\n",
    "## Homework 3"
   ]
  },
  {
   "cell_type": "markdown",
   "metadata": {},
   "source": [
    "Student Name: Nikita Amartya\n",
    "\n",
    "Student Netid: nn899\n",
    "***"
   ]
  },
  {
   "cell_type": "markdown",
   "metadata": {},
   "source": [
    "### Part 1\n",
    "Assume that $X$ and $Y$ are discrete random variables. The formulas for Mutual Information, Entropy and Conditional Entropy are given by:\n",
    "\n",
    "$$\\text{Mutual Information} = \\sum_{y \\in Y} \\sum_{x \\in X} p(x, y) \\cdot log\\frac{p(x, y)}{p(x)p(y)}$$\n",
    "\n",
    "$$\\text{Entropy} = H(Y) = -\\sum_{y \\in Y} p(y) \\cdot log(p(y))$$\n",
    "\n",
    "$$\\text{Conditional Entropy} = H(Y \\mid X) = \\sum_{x \\in X} p(x) \\cdot H(Y \\mid X = x)$$\n",
    "\n",
    "Show mathematically that $\\text{Mutual Information} = \\text{Information Gain}$, where $\\text{Information Gain} = H(Y) – H(Y \\mid X)$. Give the derivation below (note, this can be done using Latek math notation, which renders nicely. See above. Feel free to do it by hand and submit an image of your proof)."
   ]
  },
  {
   "cell_type": "markdown",
   "metadata": {},
   "source": [
    "Answer in separate attachment nn899_HW3_ans1.pdf"
   ]
  },
  {
   "cell_type": "markdown",
   "metadata": {},
   "source": [
    "### Part 2 - Preparing a Training Set and Training a Decision Tree\n",
    "This is a hands-on task where we build a predictive model using Decision Trees discussed in class. For this part, we will be using the data in `cell2cell_data.csv`.\n",
    "\n",
    "These historical data consist of 39,859 customers: 19,901 customers that churned (i.e., left the company) and 19,958 that did not churn (see the `\"churndep\"` variable). Here are the data set's 11 possible predictor variables for churning behavior: \n",
    "\n",
    "```\n",
    "Pos.  Var. Name  Var. Description\n",
    "----- ---------- --------------------------------------------------------------\n",
    "1     revenue    Mean monthly revenue in dollars\n",
    "2     outcalls   Mean number of outbound voice calls\n",
    "3     incalls    Mean number of inbound voice calls\n",
    "4     months     Months in Service\n",
    "5     eqpdays    Number of days the customer has had his/her current equipment\n",
    "6     webcap     Handset is web capable\n",
    "7     marryyes   Married (1=Yes; 0=No)\n",
    "8     travel     Has traveled to non-US country (1=Yes; 0=No)\n",
    "9     pcown      Owns a personal computer (1=Yes; 0=No)\n",
    "10    creditcd   Possesses a credit card (1=Yes; 0=No)\n",
    "11    retcalls   Number of calls previously made to retention team\n",
    "```\n",
    "\n",
    "The 12th column, the dependent variable `\"churndep\"`, equals 1 if the customer churned, and 0 otherwise. "
   ]
  },
  {
   "cell_type": "markdown",
   "metadata": {},
   "source": [
    "1\\. Load the data and prepare it for modeling. Note that the features are already processed for you, so the only thing needed here is split the data into training and testing. Use pandas to create two data frames: train_df and test_df, where train_df has 80% of the data chosen uniformly at random without replacement (test_df should have the other 20%). Also, make sure to write your own code to do the splits. You may use any random() function numpy but DO NOT use the data splitting functions from Sklearn."
   ]
  },
  {
   "cell_type": "code",
   "execution_count": 9,
   "metadata": {
    "collapsed": false
   },
   "outputs": [
    {
     "name": "stdout",
     "output_type": "stream",
     "text": [
      "31938\n",
      "7921\n"
     ]
    }
   ],
   "source": [
    "import pandas as pd\n",
    "import numpy as np\n",
    "from pandas import DataFrame\n",
    "np.random.seed(42)\n",
    "df = pd.read_csv('data/cell2cell_data.csv')\n",
    "random_mask = np.random.rand(len(df)) < 0.8\n",
    "train_df = df[random_mask]\n",
    "test_df = df[~random_mask]\n",
    "\n",
    "print len(train_df)\n",
    "print len(test_df)"
   ]
  },
  {
   "cell_type": "markdown",
   "metadata": {},
   "source": [
    "2\\. If we had to, how would we prove to ourselves or a colleague that our data was indeed randomly sampled on X? And by prove, I mean empirically, not just showing this person our code. Don't actually do the work, just describe in your own words a test you could here. Hint: think about this in terms of selection bias and use notes from our 2nd lecture."
   ]
  },
  {
   "cell_type": "markdown",
   "metadata": {},
   "source": [
    "Answer: The test that we can run is take the mean of the sample. If mean of sample and the data are approximately same that means our data is sampled randomly."
   ]
  },
  {
   "cell_type": "markdown",
   "metadata": {},
   "source": [
    "3\\. Now build and train a decision tree classifier using `DecisionTreeClassifier()` [(manual page)](http://scikit-learn.org/stable/modules/generated/sklearn.tree.DecisionTreeClassifier.html) on train_df to predict the `\"churndep\"` target variable. Make sure to use `criterion='entropy'` when instantiating an instance of `DecisionTreeClassifier()`. For all other settings you should use all of the default options."
   ]
  },
  {
   "cell_type": "code",
   "execution_count": 10,
   "metadata": {
    "collapsed": false,
    "scrolled": false
   },
   "outputs": [],
   "source": [
    "import pandas as pd\n",
    "import numpy as np\n",
    "import sklearn\n",
    "from sklearn.tree import DecisionTreeClassifier\n",
    "\n",
    "dtc = DecisionTreeClassifier(criterion=\"entropy\")\n",
    "columnList = [x for x in train_df.columns if x not in ('churndep')]\n",
    "\n",
    "X_train = train_df[columnList].values\n",
    "y_train = train_df[\"churndep\"].values\n",
    "dtc.fit(X_train, y_train)\n",
    "\n",
    "X_test = test_df[columnList].values\n",
    "y_test = test_df[\"churndep\"].values\n",
    "\n"
   ]
  },
  {
   "cell_type": "markdown",
   "metadata": {},
   "source": [
    "4\\. Using the resulting model from 2.3, show a bar plot of feature names and their feature importance (hint: check the attributes of the `DecisionTreeClassifier()` object directly in IPython or check the manual!)."
   ]
  },
  {
   "cell_type": "code",
   "execution_count": 11,
   "metadata": {
    "collapsed": false
   },
   "outputs": [
    {
     "data": {
      "text/plain": [
       "<matplotlib.figure.Figure at 0x10947abd0>"
      ]
     },
     "metadata": {},
     "output_type": "display_data"
    },
    {
     "data": {
      "image/png": "[encoded data removed]",
      "text/plain": [
       "<matplotlib.figure.Figure at 0x10955dc10>"
      ]
     },
     "metadata": {},
     "output_type": "display_data"
    }
   ],
   "source": [
    "import matplotlib.pyplot as plt\n",
    "%matplotlib inline\n",
    "\n",
    "f_importance = DataFrame(dtc.feature_importances_, columns = [\"Importance\"],\n",
    "                         index = columnList).sort(['Importance'], ascending = False)\n",
    "plt.figure() \n",
    "f_importance.plot(kind='bar');"
   ]
  },
  {
   "cell_type": "markdown",
   "metadata": {},
   "source": [
    "5\\. Is the relationship between the top 3 most important features (as measured here) negative or positive? If your marketing director asked you to explain the top 3 drivers of churn, how would you interpret the relationship between these 3 features and the churn outcome?  What \"real-life\" connection can you draw between each variable and churn?"
   ]
  },
  {
   "cell_type": "code",
   "execution_count": 20,
   "metadata": {
    "collapsed": false
   },
   "outputs": [
    {
     "data": {
      "text/html": [
       "<div>\n",
       "<table border=\"1\" class=\"dataframe\">\n",
       "  <thead>\n",
       "    <tr style=\"text-align: right;\">\n",
       "      <th></th>\n",
       "      <th>revenue</th>\n",
       "      <th>eqpdays</th>\n",
       "      <th>outcalls</th>\n",
       "      <th>churndep</th>\n",
       "    </tr>\n",
       "  </thead>\n",
       "  <tbody>\n",
       "    <tr>\n",
       "      <th>revenue</th>\n",
       "      <td>1.000000</td>\n",
       "      <td>-0.222364</td>\n",
       "      <td>0.500795</td>\n",
       "      <td>-0.008988</td>\n",
       "    </tr>\n",
       "    <tr>\n",
       "      <th>eqpdays</th>\n",
       "      <td>-0.222364</td>\n",
       "      <td>1.000000</td>\n",
       "      <td>-0.243465</td>\n",
       "      <td>0.114607</td>\n",
       "    </tr>\n",
       "    <tr>\n",
       "      <th>outcalls</th>\n",
       "      <td>0.500795</td>\n",
       "      <td>-0.243465</td>\n",
       "      <td>1.000000</td>\n",
       "      <td>-0.036827</td>\n",
       "    </tr>\n",
       "    <tr>\n",
       "      <th>churndep</th>\n",
       "      <td>-0.008988</td>\n",
       "      <td>0.114607</td>\n",
       "      <td>-0.036827</td>\n",
       "      <td>1.000000</td>\n",
       "    </tr>\n",
       "  </tbody>\n",
       "</table>\n",
       "</div>"
      ],
      "text/plain": [
       "           revenue   eqpdays  outcalls  churndep\n",
       "revenue   1.000000 -0.222364  0.500795 -0.008988\n",
       "eqpdays  -0.222364  1.000000 -0.243465  0.114607\n",
       "outcalls  0.500795 -0.243465  1.000000 -0.036827\n",
       "churndep -0.008988  0.114607 -0.036827  1.000000"
      ]
     },
     "execution_count": 20,
     "metadata": {},
     "output_type": "execute_result"
    }
   ],
   "source": [
    "# Code/answer here\n",
    "\n",
    "rel = ['revenue', 'eqpdays', 'outcalls', 'churndep']\n",
    "df_rel = train_df[rel]\n",
    "df_rel.corr()\n",
    "\n",
    "# I have sorted the featues before plotting the bar graph. As we can see, the The 3 top most features are revenue, \n",
    "# eqpdays and outcalls. The relationship between these 4 columns with each other is as\n",
    "# obtained in the output from code above. The highest corraltion is between churndep and eqpdays. The longer a person \n",
    "# has been using a cellular equipment, the more likely he is to stay. Higher is the value of outcall, more is the \n",
    "# revenue (this is a common knowledge). Relationship (eqpdays vs revenue), (revenue vs churndep),\n",
    "# (eqpdays vs outcalls), (outcalls vs churndep) is negative. Other relations are positive. One inference that we can\n",
    "# draw from (revenue vs churndep) being negative is that if the revenue is higher means customer is paying more per \n",
    "# month and using the service more and less likely to leave. Same with (outcalls vs churndep). \n",
    "# eqpdays vs churndep is positive but its a low value which implies that likelihood of an older customer to leave is \n",
    "# low but positive. This is because person with older equipment is likely to get a new equpment and \n",
    "# that is good chance for one to look for alternate services. Outcalls vs eqpdays being negative means a customer \n",
    "# with new equipment makes more number of calls vice versa. Older equipment means smaller number of calls and hence \n",
    "# smaller revenue."
   ]
  },
  {
   "cell_type": "markdown",
   "metadata": {},
   "source": [
    "6\\. Using the classifier built in 2.3, try predicting `\"churndep\"` on both the train_df and test_df data sets. What is the accuracy on each?"
   ]
  },
  {
   "cell_type": "code",
   "execution_count": 13,
   "metadata": {
    "collapsed": false
   },
   "outputs": [
    {
     "name": "stdout",
     "output_type": "stream",
     "text": [
      "0.999812136014\n",
      "0.533266001767\n"
     ]
    }
   ],
   "source": [
    "from sklearn import metrics \n",
    "print metrics.accuracy_score(dtc.predict(X_train), y_train)\n",
    "print metrics.accuracy_score(dtc.predict(X_test), y_test)\n"
   ]
  },
  {
   "cell_type": "markdown",
   "metadata": {},
   "source": [
    "### Part 3 - Finding a Good Decision Tree\n",
    "The default options for your decision tree may not be optimal. We need to analyze whether tuning the parameters can improve the accuracy of the classifier.  For the following options `min_samples_split` and `min_samples_leaf`:"
   ]
  },
  {
   "cell_type": "markdown",
   "metadata": {},
   "source": [
    "1\\. Generate a list of 10 values of each for the parameters min_samples_split and min_samples_leaf. "
   ]
  },
  {
   "cell_type": "code",
   "execution_count": 14,
   "metadata": {
    "collapsed": false
   },
   "outputs": [
    {
     "name": "stdout",
     "output_type": "stream",
     "text": [
      "[362, 367, 541, 612, 765, 782, 793, 933, 961, 967]\n",
      "[236, 241, 373, 522, 525, 529, 620, 750, 824, 918]\n"
     ]
    }
   ],
   "source": [
    "# Code here\n",
    "import random\n",
    "np.random.seed(13)\n",
    "gen_split_values = random.sample(range(2,999),10)\n",
    "gen_leaf_values = random.sample(range(1,999),10)\n",
    "min_samples_split_values = sorted(gen_split_values)\n",
    "min_samples_leaf_values = sorted(gen_leaf_values)\n",
    "print min_samples_split_values\n",
    "print min_samples_leaf_values"
   ]
  },
  {
   "cell_type": "markdown",
   "metadata": {},
   "source": [
    "2\\. Explain in words your reasoning for choosing the above ranges."
   ]
  },
  {
   "cell_type": "markdown",
   "metadata": {},
   "source": [
    "Answer: The range for min_samples_split_values is from 2 because the minimum number of samples required to split an internal node is 2. The range for min_samples_leaf_values is from 1 because minimum number of samples required to be at a leaf node. The upper limit for the range is 999 because if we take the min_sample_split and min_samples_leaf value too high then, we are not getting better accuracy (and also most of the lines in the graph are overlapping and we don't see much variation in accuracy)"
   ]
  },
  {
   "cell_type": "markdown",
   "metadata": {},
   "source": [
    "3\\. For each combination of values in 3.1 (there should be 100), build a new classifier and check the classifier's accuracy on the test data. Plot the test set accuracy for these options. Use the values of `min_samples_split` as the x-axis and generate a new series (line) for each of `min_samples_leaf`."
   ]
  },
  {
   "cell_type": "code",
   "execution_count": 15,
   "metadata": {
    "collapsed": false
   },
   "outputs": [
    {
     "data": {
      "image/png": "[encoded data removed]",
      "text/plain": [
       "<matplotlib.figure.Figure at 0x10974a610>"
      ]
     },
     "metadata": {},
     "output_type": "display_data"
    },
    {
     "name": "stdout",
     "output_type": "stream",
     "text": [
      "Maximum Accuracy is :\n",
      "0.60017674536\n",
      "Best split :\n",
      "362\n",
      "Best leaf :\n",
      "529\n"
     ]
    }
   ],
   "source": [
    "import matplotlib.pyplot as plt\n",
    "%matplotlib inline\n",
    "x = min_samples_split_values\n",
    "max_accuracy = 0\n",
    "best_split = 0\n",
    "best_leaf = 0\n",
    "for split in range(len(min_samples_split_values)):\n",
    "    \n",
    "    accuracy = []\n",
    "    \n",
    "    for leaf in range(len(min_samples_leaf_values)):\n",
    "        \n",
    "        decision_tree = DecisionTreeClassifier(criterion=\"entropy\",min_samples_split= min_samples_split_values[split] ,min_samples_leaf= min_samples_leaf_values[leaf] )\n",
    "        decision_tree.fit(X_train, y_train)\n",
    "        accuracy.append(metrics.accuracy_score(decision_tree.predict(X_test), y_test))\n",
    "        acc = metrics.accuracy_score(decision_tree.predict(X_test), y_test)\n",
    "        if acc > max_accuracy :\n",
    "            max_accuracy = acc\n",
    "            best_split = min_samples_split_values[split]\n",
    "            best_leaf = min_samples_leaf_values[leaf]\n",
    "        \n",
    "    plt.plot(x, accuracy)    \n",
    "\n",
    "plt.show()\n",
    "print \"Maximum Accuracy is :\"\n",
    "print max_accuracy\n",
    "print \"Best split :\"\n",
    "print best_split\n",
    "print \"Best leaf :\"\n",
    "print best_leaf\n"
   ]
  },
  {
   "cell_type": "markdown",
   "metadata": {},
   "source": [
    "4\\. Which configuration returns the best accuracy? What is this accuracy? (Note, if you don't see much variation in the test set accuracy across values of min_samples_split or min_samples_leaf, try redoing the above steps with a different range of values)."
   ]
  },
  {
   "cell_type": "code",
   "execution_count": 16,
   "metadata": {
    "collapsed": true
   },
   "outputs": [],
   "source": [
    "# As we can see from the output above, Maximum Accuracy is : 0.60017674536\n",
    "# For Best split value: 362, Best leaf value: 529"
   ]
  },
  {
   "cell_type": "markdown",
   "metadata": {},
   "source": [
    "5\\. If you were working for a marketing department, how would you use your churn production model in a real business environment? Explain why churn prediction might be good for the business and how one might improve churn by using this model."
   ]
  },
  {
   "cell_type": "markdown",
   "metadata": {},
   "source": [
    "ANSWER:\n",
    "The churn production model can help predict if a customer is going to churn. If we  can predict it with high accuracy, we can target such customer with some promotions and special benefits such that the customer stays. Promotional offer or added benefits is a good way to make a customer stay and increase the revenue. We can clearly use the results in 2.5 to decide our marketing strategy to maximize revenue."
   ]
  }
 ],
 "metadata": {
  "kernelspec": {
   "display_name": "Python 2",
   "language": "python",
   "name": "python2"
  },
  "language_info": {
   "codemirror_mode": {
    "name": "ipython",
    "version": 2
   },
   "file_extension": ".py",
   "mimetype": "text/x-python",
   "name": "python",
   "nbconvert_exporter": "python",
   "pygments_lexer": "ipython2",
   "version": "2.7.10"
  }
 },
 "nbformat": 4,
 "nbformat_minor": 0
}
